{
 "cells": [
  {
   "cell_type": "code",
   "execution_count": 2,
   "metadata": {
    "scrolled": true
   },
   "outputs": [],
   "source": [
    "import matplotlib.pyplot as plt\n",
    "import numpy as np\n",
    "import os\n",
    "from six.moves import cPickle as pickle\n",
    "import cv2\n",
    "import pickle\n",
    "import time\n",
    "\n",
    "from keras.models import Sequential\n",
    "from keras.layers.core import Dense, Dropout, Activation, Flatten\n",
    "from keras.layers.convolutional import Conv2D, MaxPooling2D\n",
    "from keras.optimizers import SGD\n",
    "from keras.callbacks import ModelCheckpoint, History"
   ]
  },
  {
   "cell_type": "code",
   "execution_count": 3,
   "metadata": {},
   "outputs": [],
   "source": [
    "openDirs = ['data/openLeftEyes', 'data/openRightEyes']\n",
    "closeDirs = ['data/closedLeftEyes', 'data/closedRightEyes']"
   ]
  },
  {
   "cell_type": "code",
   "execution_count": 4,
   "metadata": {},
   "outputs": [],
   "source": [
    "def generate_dataset(type, dirData):\n",
    "    dataset = np.ndarray([1231*2, 24, 24, 1], dtype='float32')\n",
    "    i = 0\n",
    "    for dir in dirData:\n",
    "        for filename in os.listdir(dir):\n",
    "            if filename.endswith('.jpg'):\n",
    "                im = cv2.imread(dir + '/' + filename)\n",
    "                # Convert to grayscale image\n",
    "                im = np.dot(np.array(im, dtype='float32'), [[0.2989], [0.5870], [0.1140]]) / 255\n",
    "                dataset[i, :, :, :] = im[:, :, :]\n",
    "                i += 1\n",
    "\n",
    "    if type == 1:\n",
    "        labels = np.ones([len(dataset), 1], dtype=int)\n",
    "    else:\n",
    "        labels = np.zeros([len(dataset), 1], dtype=int)\n",
    "    return dataset, labels"
   ]
  },
  {
   "cell_type": "code",
   "execution_count": 5,
   "metadata": {},
   "outputs": [],
   "source": [
    "def save_train_and_test_set(dataset, labels, ratio, pickle_file):\n",
    "    split = int(len(dataset) * ratio)\n",
    "    train_dataset = dataset[:split]\n",
    "    train_labels = labels[:split]\n",
    "    test_dataset = dataset[split:]\n",
    "    test_labels = labels[split:]\n",
    "\n",
    "    try:\n",
    "        f = open(pickle_file, 'wb')\n",
    "        save = {\n",
    "            'train_dataset': train_dataset,\n",
    "            'train_labels': train_labels,\n",
    "            'test_dataset': test_dataset,\n",
    "            'test_labels': test_labels,\n",
    "        }\n",
    "        pickle.dump(save, f, pickle.HIGHEST_PROTOCOL)\n",
    "        f.close()\n",
    "    except Exception as e:\n",
    "        print('Unable to save data to', pickle_file, ':', e)\n",
    "        raise\n",
    "\n",
    "    statinfo = os.stat(pickle_file)\n",
    "    print('Compressed pickle size:', statinfo.st_size)"
   ]
  },
  {
   "cell_type": "code",
   "execution_count": 6,
   "metadata": {},
   "outputs": [
    {
     "name": "stdout",
     "output_type": "stream",
     "text": [
      "Compressed pickle size: 5692535\n",
      "Compressed pickle size: 5692535\n"
     ]
    }
   ],
   "source": [
    "dataset_open, labels_open = generate_dataset(1, openDirs)\n",
    "dataset_closed, labels_closed = generate_dataset(0, closeDirs)\n",
    "\n",
    "ratio = 0.8\n",
    "\n",
    "pickle_file_open = 'input/open_eyes.pickle'\n",
    "pickle_file_closed = 'input/closed_eyes.pickle'\n",
    "\n",
    "# Save open dataset to pickle file\n",
    "save_train_and_test_set(dataset_open, labels_open, ratio, pickle_file_open)\n",
    "# Save close dataset to pickle file\n",
    "save_train_and_test_set(dataset_closed, labels_closed, ratio, pickle_file_closed)"
   ]
  },
  {
   "cell_type": "code",
   "execution_count": 7,
   "metadata": {},
   "outputs": [
    {
     "name": "stdout",
     "output_type": "stream",
     "text": [
      "Training set (3938, 24, 24, 1) (3938, 1)\n",
      "Test set (986, 24, 24, 1) (986, 1)\n"
     ]
    }
   ],
   "source": [
    "np.random.seed(1337)  # for reproducibility\n",
    "\n",
    "pickle_files = ['input/open_eyes.pickle', 'input/closed_eyes.pickle']\n",
    "i = 0\n",
    "for pickle_file in pickle_files:\n",
    "    with open(pickle_file, 'rb') as f:\n",
    "        save = pickle.load(f)\n",
    "        if i == 0:\n",
    "            train_dataset = save['train_dataset']\n",
    "            train_labels = save['train_labels']\n",
    "            test_dataset = save['test_dataset']\n",
    "            test_labels = save['test_labels']\n",
    "        else:\n",
    "            train_dataset = np.concatenate((train_dataset, save['train_dataset']))\n",
    "            train_labels = np.concatenate((train_labels, save['train_labels']))\n",
    "            test_dataset = np.concatenate((test_dataset, save['test_dataset']))\n",
    "            test_labels = np.concatenate((test_labels, save['test_labels']))\n",
    "        del save  # hint to help gc free up memory\n",
    "    i += 1\n",
    "\n",
    "print('Training set', train_dataset.shape, train_labels.shape)\n",
    "print('Test set', test_dataset.shape, test_labels.shape)"
   ]
  },
  {
   "cell_type": "code",
   "execution_count": 8,
   "metadata": {},
   "outputs": [
    {
     "name": "stdout",
     "output_type": "stream",
     "text": [
      "3938 train samples, 1 channels, 24x24\n",
      "986  test samples, 1 channels, 24x24\n"
     ]
    }
   ],
   "source": [
    "X_train = train_dataset\n",
    "Y_train = train_labels\n",
    "X_test = test_dataset\n",
    "Y_test = test_labels\n",
    "\n",
    "# print data shape\n",
    "print(\"{1} train samples, {4} channel{0}, {2}x{3}\".format(\"\" if X_train.shape[1] == 1 else \"s\", *X_train.shape))\n",
    "print(\"{1}  test samples, {4} channel{0}, {2}x{3}\".format(\"\" if X_test.shape[1] == 1 else \"s\", *X_test.shape))"
   ]
  },
  {
   "cell_type": "code",
   "execution_count": 9,
   "metadata": {},
   "outputs": [
    {
     "name": "stdout",
     "output_type": "stream",
     "text": [
      "WARNING:tensorflow:From /home/alienware/miniconda3/envs/wavenet/lib/python3.6/site-packages/tensorflow/python/ops/resource_variable_ops.py:435: colocate_with (from tensorflow.python.framework.ops) is deprecated and will be removed in a future version.\n",
      "Instructions for updating:\n",
      "Colocations handled automatically by placer.\n",
      "Model: \"sequential_1\"\n",
      "_________________________________________________________________\n",
      "Layer (type)                 Output Shape              Param #   \n",
      "=================================================================\n",
      "conv2d_1 (Conv2D)            (None, 24, 24, 32)        320       \n",
      "_________________________________________________________________\n",
      "activation_1 (Activation)    (None, 24, 24, 32)        0         \n",
      "_________________________________________________________________\n",
      "conv2d_2 (Conv2D)            (None, 22, 22, 32)        9248      \n",
      "_________________________________________________________________\n",
      "activation_2 (Activation)    (None, 22, 22, 32)        0         \n",
      "_________________________________________________________________\n",
      "max_pooling2d_1 (MaxPooling2 (None, 11, 11, 32)        0         \n",
      "_________________________________________________________________\n",
      "dropout_1 (Dropout)          (None, 11, 11, 32)        0         \n",
      "_________________________________________________________________\n",
      "conv2d_3 (Conv2D)            (None, 11, 11, 64)        18496     \n",
      "_________________________________________________________________\n",
      "activation_3 (Activation)    (None, 11, 11, 64)        0         \n",
      "_________________________________________________________________\n",
      "conv2d_4 (Conv2D)            (None, 9, 9, 64)          36928     \n",
      "_________________________________________________________________\n",
      "activation_4 (Activation)    (None, 9, 9, 64)          0         \n",
      "_________________________________________________________________\n",
      "max_pooling2d_2 (MaxPooling2 (None, 4, 4, 64)          0         \n",
      "_________________________________________________________________\n",
      "dropout_2 (Dropout)          (None, 4, 4, 64)          0         \n",
      "_________________________________________________________________\n",
      "conv2d_5 (Conv2D)            (None, 4, 4, 128)         73856     \n",
      "_________________________________________________________________\n",
      "activation_5 (Activation)    (None, 4, 4, 128)         0         \n",
      "_________________________________________________________________\n",
      "conv2d_6 (Conv2D)            (None, 2, 2, 128)         147584    \n",
      "_________________________________________________________________\n",
      "activation_6 (Activation)    (None, 2, 2, 128)         0         \n",
      "_________________________________________________________________\n",
      "max_pooling2d_3 (MaxPooling2 (None, 1, 1, 128)         0         \n",
      "_________________________________________________________________\n",
      "dropout_3 (Dropout)          (None, 1, 1, 128)         0         \n",
      "_________________________________________________________________\n",
      "flatten_1 (Flatten)          (None, 128)               0         \n",
      "_________________________________________________________________\n",
      "dense_1 (Dense)              (None, 512)               66048     \n",
      "_________________________________________________________________\n",
      "activation_7 (Activation)    (None, 512)               0         \n",
      "_________________________________________________________________\n",
      "dropout_4 (Dropout)          (None, 512)               0         \n",
      "_________________________________________________________________\n",
      "dense_2 (Dense)              (None, 1)                 513       \n",
      "_________________________________________________________________\n",
      "activation_8 (Activation)    (None, 1)                 0         \n",
      "=================================================================\n",
      "Total params: 352,993\n",
      "Trainable params: 352,993\n",
      "Non-trainable params: 0\n",
      "_________________________________________________________________\n"
     ]
    }
   ],
   "source": [
    "_, img_channels, img_rows, img_cols = X_train.shape\n",
    "\n",
    "model = Sequential()\n",
    "\n",
    "model.add(Conv2D(32, (3, 3), padding='same', input_shape=(img_channels, img_rows, img_cols)))\n",
    "model.add(Activation('relu'))\n",
    "model.add(Conv2D(32, (3, 3)))\n",
    "model.add(Activation('relu'))\n",
    "model.add(MaxPooling2D(pool_size=(2, 2)))\n",
    "model.add(Dropout(0.25))\n",
    "\n",
    "model.add(Conv2D(64, (3, 3), padding='same'))\n",
    "model.add(Activation('relu'))\n",
    "model.add(Conv2D(64, (3, 3)))\n",
    "model.add(Activation('relu'))\n",
    "model.add(MaxPooling2D(pool_size=(2, 2)))\n",
    "model.add(Dropout(0.25))\n",
    "\n",
    "model.add(Conv2D(128, (3, 3), padding='same'))\n",
    "model.add(Activation('relu'))\n",
    "model.add(Conv2D(128, (3, 3)))\n",
    "model.add(Activation('relu'))\n",
    "model.add(MaxPooling2D(pool_size=(2, 2)))\n",
    "model.add(Dropout(0.25))\n",
    "\n",
    "# FC layer\n",
    "model.add(Flatten())\n",
    "model.add(Dense(512))\n",
    "model.add(Activation('relu'))\n",
    "model.add(Dropout(0.5))\n",
    "\n",
    "model.add(Dense(1))\n",
    "model.add(Activation('sigmoid'))\n",
    "\n",
    "# let's train the model using SGD + momentum (how original).\n",
    "sgd = SGD(lr=0.01, decay=1e-6, momentum=0.9, nesterov=True)\n",
    "model.compile(loss='binary_crossentropy', optimizer=sgd, metrics=['accuracy'])\n",
    "\n",
    "model.summary()"
   ]
  },
  {
   "cell_type": "code",
   "execution_count": 10,
   "metadata": {
    "scrolled": true
   },
   "outputs": [
    {
     "name": "stdout",
     "output_type": "stream",
     "text": [
      "WARNING:tensorflow:From /home/alienware/miniconda3/envs/wavenet/lib/python3.6/site-packages/tensorflow/python/ops/math_ops.py:3066: to_int32 (from tensorflow.python.ops.math_ops) is deprecated and will be removed in a future version.\n",
      "Instructions for updating:\n",
      "Use tf.cast instead.\n",
      "Train on 3938 samples, validate on 986 samples\n",
      "Epoch 1/50\n",
      "3938/3938 [==============================] - 2s 412us/step - loss: 0.6721 - accuracy: 0.5785 - val_loss: 0.6416 - val_accuracy: 0.6308\n",
      "Epoch 2/50\n",
      "3938/3938 [==============================] - 1s 148us/step - loss: 0.6208 - accuracy: 0.6531 - val_loss: 0.6742 - val_accuracy: 0.5892\n",
      "Epoch 3/50\n",
      "3938/3938 [==============================] - 1s 143us/step - loss: 0.6141 - accuracy: 0.6590 - val_loss: 0.6207 - val_accuracy: 0.6623\n",
      "Epoch 4/50\n",
      "3938/3938 [==============================] - 1s 144us/step - loss: 0.5888 - accuracy: 0.6930 - val_loss: 0.5886 - val_accuracy: 0.6886\n",
      "Epoch 5/50\n",
      "3938/3938 [==============================] - 1s 144us/step - loss: 0.5105 - accuracy: 0.7577 - val_loss: 0.6324 - val_accuracy: 0.6694\n",
      "Epoch 6/50\n",
      "3938/3938 [==============================] - 1s 155us/step - loss: 0.3971 - accuracy: 0.8189 - val_loss: 0.3079 - val_accuracy: 0.8367\n",
      "Epoch 7/50\n",
      "3938/3938 [==============================] - 1s 147us/step - loss: 0.2902 - accuracy: 0.8789 - val_loss: 0.2313 - val_accuracy: 0.8702\n",
      "Epoch 8/50\n",
      "3938/3938 [==============================] - 1s 143us/step - loss: 0.2260 - accuracy: 0.9126 - val_loss: 0.4684 - val_accuracy: 0.7353\n",
      "Epoch 9/50\n",
      "3938/3938 [==============================] - 1s 144us/step - loss: 0.1873 - accuracy: 0.9276 - val_loss: 0.1345 - val_accuracy: 0.9574\n",
      "Epoch 10/50\n",
      "3938/3938 [==============================] - 1s 144us/step - loss: 0.1737 - accuracy: 0.9332 - val_loss: 0.1714 - val_accuracy: 0.9523\n",
      "Epoch 11/50\n",
      "3938/3938 [==============================] - 1s 144us/step - loss: 0.1661 - accuracy: 0.9322 - val_loss: 0.1275 - val_accuracy: 0.9615\n",
      "Epoch 12/50\n",
      "3938/3938 [==============================] - 1s 143us/step - loss: 0.1511 - accuracy: 0.9408 - val_loss: 0.1154 - val_accuracy: 0.9675\n",
      "Epoch 13/50\n",
      "3938/3938 [==============================] - 1s 143us/step - loss: 0.1323 - accuracy: 0.9487 - val_loss: 0.1323 - val_accuracy: 0.9533\n",
      "Epoch 14/50\n",
      "3938/3938 [==============================] - 1s 144us/step - loss: 0.1332 - accuracy: 0.9500 - val_loss: 0.1168 - val_accuracy: 0.9655\n",
      "Epoch 15/50\n",
      "3938/3938 [==============================] - 1s 146us/step - loss: 0.1178 - accuracy: 0.9561 - val_loss: 0.0987 - val_accuracy: 0.9716\n",
      "Epoch 16/50\n",
      "3938/3938 [==============================] - 1s 144us/step - loss: 0.1117 - accuracy: 0.9581 - val_loss: 0.1391 - val_accuracy: 0.9473\n",
      "Epoch 17/50\n",
      "3938/3938 [==============================] - 1s 144us/step - loss: 0.1107 - accuracy: 0.9568 - val_loss: 0.1111 - val_accuracy: 0.9716\n",
      "Epoch 18/50\n",
      "3938/3938 [==============================] - 1s 152us/step - loss: 0.0938 - accuracy: 0.9660 - val_loss: 0.1225 - val_accuracy: 0.9574\n",
      "Epoch 19/50\n",
      "3938/3938 [==============================] - 1s 157us/step - loss: 0.1010 - accuracy: 0.9617 - val_loss: 0.1831 - val_accuracy: 0.9351\n",
      "Epoch 20/50\n",
      "3938/3938 [==============================] - 1s 147us/step - loss: 0.0964 - accuracy: 0.9617 - val_loss: 0.0841 - val_accuracy: 0.9706\n",
      "Epoch 21/50\n",
      "3938/3938 [==============================] - 1s 154us/step - loss: 0.0864 - accuracy: 0.9665 - val_loss: 0.1005 - val_accuracy: 0.9665\n",
      "Epoch 22/50\n",
      "3938/3938 [==============================] - 1s 143us/step - loss: 0.0791 - accuracy: 0.9703 - val_loss: 0.0996 - val_accuracy: 0.9625\n",
      "Epoch 23/50\n",
      "3938/3938 [==============================] - 1s 150us/step - loss: 0.0838 - accuracy: 0.9680 - val_loss: 0.0974 - val_accuracy: 0.9645\n",
      "Epoch 24/50\n",
      "3938/3938 [==============================] - 1s 150us/step - loss: 0.0711 - accuracy: 0.9700 - val_loss: 0.0816 - val_accuracy: 0.9726\n",
      "Epoch 25/50\n",
      "3938/3938 [==============================] - 1s 147us/step - loss: 0.0767 - accuracy: 0.9731 - val_loss: 0.0777 - val_accuracy: 0.9736\n",
      "Epoch 26/50\n",
      "3938/3938 [==============================] - 1s 149us/step - loss: 0.0609 - accuracy: 0.9766 - val_loss: 0.1020 - val_accuracy: 0.9716\n",
      "Epoch 27/50\n",
      "3938/3938 [==============================] - 1s 151us/step - loss: 0.0634 - accuracy: 0.9759 - val_loss: 0.1250 - val_accuracy: 0.9523\n",
      "Epoch 28/50\n",
      "3938/3938 [==============================] - 1s 144us/step - loss: 0.0638 - accuracy: 0.9751 - val_loss: 0.0936 - val_accuracy: 0.9675\n",
      "Epoch 29/50\n",
      "3938/3938 [==============================] - 1s 144us/step - loss: 0.0658 - accuracy: 0.9744 - val_loss: 0.1068 - val_accuracy: 0.9665\n",
      "Epoch 30/50\n",
      "3938/3938 [==============================] - 1s 145us/step - loss: 0.0526 - accuracy: 0.9825 - val_loss: 0.0935 - val_accuracy: 0.9736\n",
      "Epoch 31/50\n",
      "3938/3938 [==============================] - 1s 144us/step - loss: 0.0613 - accuracy: 0.9764 - val_loss: 0.1034 - val_accuracy: 0.9615\n",
      "Epoch 32/50\n",
      "3938/3938 [==============================] - 1s 148us/step - loss: 0.0560 - accuracy: 0.9787 - val_loss: 0.0933 - val_accuracy: 0.9696\n",
      "Epoch 33/50\n",
      "3938/3938 [==============================] - 1s 145us/step - loss: 0.0517 - accuracy: 0.9802 - val_loss: 0.1062 - val_accuracy: 0.9665\n",
      "Epoch 34/50\n",
      "3938/3938 [==============================] - 1s 144us/step - loss: 0.0443 - accuracy: 0.9827 - val_loss: 0.1180 - val_accuracy: 0.9655\n",
      "Epoch 35/50\n",
      "3938/3938 [==============================] - 1s 144us/step - loss: 0.0541 - accuracy: 0.9787 - val_loss: 0.0943 - val_accuracy: 0.9665\n",
      "Epoch 36/50\n",
      "3938/3938 [==============================] - 1s 144us/step - loss: 0.0475 - accuracy: 0.9804 - val_loss: 0.1091 - val_accuracy: 0.9635\n",
      "Epoch 37/50\n",
      "3938/3938 [==============================] - 1s 145us/step - loss: 0.0500 - accuracy: 0.9827 - val_loss: 0.0958 - val_accuracy: 0.9655\n",
      "Epoch 38/50\n",
      "3938/3938 [==============================] - 1s 143us/step - loss: 0.0462 - accuracy: 0.9830 - val_loss: 0.1050 - val_accuracy: 0.9696\n",
      "Epoch 39/50\n",
      "3938/3938 [==============================] - 1s 145us/step - loss: 0.0451 - accuracy: 0.9840 - val_loss: 0.0955 - val_accuracy: 0.9645\n",
      "Epoch 40/50\n",
      "3938/3938 [==============================] - 1s 144us/step - loss: 0.0495 - accuracy: 0.9807 - val_loss: 0.1545 - val_accuracy: 0.9432\n",
      "Epoch 41/50\n",
      "3938/3938 [==============================] - 1s 149us/step - loss: 0.0358 - accuracy: 0.9870 - val_loss: 0.1140 - val_accuracy: 0.9675\n",
      "Epoch 42/50\n",
      "3938/3938 [==============================] - 1s 144us/step - loss: 0.0390 - accuracy: 0.9863 - val_loss: 0.0989 - val_accuracy: 0.9655\n",
      "Epoch 43/50\n",
      "3938/3938 [==============================] - 1s 145us/step - loss: 0.0315 - accuracy: 0.9881 - val_loss: 0.1091 - val_accuracy: 0.9645\n",
      "Epoch 44/50\n",
      "3938/3938 [==============================] - 1s 144us/step - loss: 0.0384 - accuracy: 0.9870 - val_loss: 0.1080 - val_accuracy: 0.9625\n",
      "Epoch 45/50\n",
      "3938/3938 [==============================] - 1s 143us/step - loss: 0.0369 - accuracy: 0.9878 - val_loss: 0.1067 - val_accuracy: 0.9665\n",
      "Epoch 46/50\n",
      "3938/3938 [==============================] - 1s 145us/step - loss: 0.0362 - accuracy: 0.9873 - val_loss: 0.1067 - val_accuracy: 0.9645\n",
      "Epoch 47/50\n",
      "3938/3938 [==============================] - 1s 145us/step - loss: 0.0346 - accuracy: 0.9873 - val_loss: 0.0908 - val_accuracy: 0.9675\n",
      "Epoch 48/50\n",
      "3938/3938 [==============================] - 1s 146us/step - loss: 0.0327 - accuracy: 0.9886 - val_loss: 0.1168 - val_accuracy: 0.9716\n",
      "Epoch 49/50\n",
      "3938/3938 [==============================] - 1s 144us/step - loss: 0.0408 - accuracy: 0.9873 - val_loss: 0.0830 - val_accuracy: 0.9696\n",
      "Epoch 50/50\n",
      "3938/3938 [==============================] - 1s 150us/step - loss: 0.0310 - accuracy: 0.9881 - val_loss: 0.0870 - val_accuracy: 0.9716\n"
     ]
    }
   ],
   "source": [
    "history = model.fit(X_train,\n",
    "                    Y_train, \n",
    "                    batch_size=30, \n",
    "                    epochs=50, \n",
    "                    verbose=1, \n",
    "                    validation_data=(X_test, Y_test))"
   ]
  },
  {
   "cell_type": "code",
   "execution_count": 11,
   "metadata": {},
   "outputs": [
    {
     "name": "stdout",
     "output_type": "stream",
     "text": [
      "Loss score: 0.08700267035461222\n",
      "Test accuracy: 97.16024398803711 %\n"
     ]
    }
   ],
   "source": [
    "score = model.evaluate(X_test, Y_test, verbose=0)\n",
    "\n",
    "print('Loss score:', score[0])\n",
    "print('Test accuracy:', score[1] * 100, '%')"
   ]
  },
  {
   "cell_type": "code",
   "execution_count": 12,
   "metadata": {},
   "outputs": [
    {
     "data": {
      "image/png": "[encoded data removed]",
      "text/plain": [
       "<Figure size 1440x720 with 2 Axes>"
      ]
     },
     "metadata": {
      "needs_background": "light"
     },
     "output_type": "display_data"
    }
   ],
   "source": [
    "plt.figure(figsize=(20,10))\n",
    "plt.subplot(1, 2, 1)\n",
    "plt.suptitle('Optimizer : Adam', fontsize=10)\n",
    "plt.ylabel('Loss', fontsize=16)\n",
    "plt.plot(history.history['loss'], label='Training Loss')\n",
    "plt.plot(history.history['val_loss'], label='Validation Loss')\n",
    "plt.legend(loc='upper right')\n",
    "\n",
    "plt.subplot(1, 2, 2)\n",
    "plt.ylabel('Accuracy', fontsize=16)\n",
    "plt.plot(history.history['accuracy'], label='Training Accuracy')\n",
    "plt.plot(history.history['val_accuracy'], label='Validation Accuracy')\n",
    "plt.legend(loc='lower right')\n",
    "plt.show()"
   ]
  },
  {
   "cell_type": "code",
   "execution_count": 13,
   "metadata": {},
   "outputs": [
    {
     "name": "stdout",
     "output_type": "stream",
     "text": [
      "Save model to file json...\n",
      "Save weights to file...\n"
     ]
    }
   ],
   "source": [
    "now = time.time()\n",
    "print(\"Save model to file json...\")\n",
    "model_json = model.to_json()\n",
    "with open('trained_model/model_' + str(now) + '.json', \"w\") as json_file:\n",
    "    json_file.write(model_json)\n",
    "\n",
    "print(\"Save weights to file...\")\n",
    "model.save_weights('trained_model/weight_' + str(now) + '.h5', overwrite=True)"
   ]
  },
  {
   "cell_type": "code",
   "execution_count": null,
   "metadata": {},
   "outputs": [],
   "source": []
  }
 ],
 "metadata": {
  "kernelspec": {
   "display_name": "Python 3",
   "language": "python",
   "name": "python3"
  },
  "language_info": {
   "codemirror_mode": {
    "name": "ipython",
    "version": 3
   },
   "file_extension": ".py",
   "mimetype": "text/x-python",
   "name": "python",
   "nbconvert_exporter": "python",
   "pygments_lexer": "ipython3",
   "version": "3.6.9"
  },
  "varInspector": {
   "cols": {
    "lenName": 16,
    "lenType": 16,
    "lenVar": 40
   },
   "kernels_config": {
    "python": {
     "delete_cmd_postfix": "",
     "delete_cmd_prefix": "del ",
     "library": "var_list.py",
     "varRefreshCmd": "print(var_dic_list())"
    },
    "r": {
     "delete_cmd_postfix": ") ",
     "delete_cmd_prefix": "rm(",
     "library": "var_list.r",
     "varRefreshCmd": "cat(var_dic_list()) "
    }
   },
   "types_to_exclude": [
    "module",
    "function",
    "builtin_function_or_method",
    "instance",
    "_Feature"
   ],
   "window_display": false
  }
 },
 "nbformat": 4,
 "nbformat_minor": 2
}
