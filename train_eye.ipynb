{
 "cells": [
  {
   "cell_type": "code",
   "execution_count": 18,
   "metadata": {},
   "outputs": [],
   "source": [
    "import matplotlib.pyplot as plt\n",
    "import numpy as np\n",
    "import os\n",
    "from six.moves import cPickle as pickle\n",
    "import cv2\n",
    "import pickle\n",
    "import time\n",
    "\n",
    "from keras.models import Sequential\n",
    "from keras.layers.core import Dense, Dropout, Activation, Flatten\n",
    "from keras.layers.convolutional import Conv2D, MaxPooling2D\n",
    "from keras.optimizers import SGD\n",
    "from keras.callbacks import ModelCheckpoint, History"
   ]
  },
  {
   "cell_type": "code",
   "execution_count": 19,
   "metadata": {},
   "outputs": [],
   "source": [
    "openDirs = ['data/eye-data/openLeftEyes', 'data/eye-data/openRightEyes']\n",
    "closeDirs = ['data/eye-data/closedLeftEyes', 'data/eye-data/closedRightEyes']"
   ]
  },
  {
   "cell_type": "code",
   "execution_count": 20,
   "metadata": {},
   "outputs": [],
   "source": [
    "def generate_dataset(type, dirData):\n",
    "    dataset = np.ndarray([1231*2, 24, 24, 1], dtype='float32')\n",
    "    i = 0\n",
    "    for dir in dirData:\n",
    "        for filename in os.listdir(dir):\n",
    "            if filename.endswith('.jpg'):\n",
    "                im = cv2.imread(dir + '/' + filename)\n",
    "                # Convert to grayscale image\n",
    "                im = np.dot(np.array(im, dtype='float32'), [[0.2989], [0.5870], [0.1140]]) / 255\n",
    "                dataset[i, :, :, :] = im[:, :, :]\n",
    "                i += 1\n",
    "\n",
    "    if type == 1:\n",
    "        labels = np.ones([len(dataset), 1], dtype=int)\n",
    "    else:\n",
    "        labels = np.zeros([len(dataset), 1], dtype=int)\n",
    "    return dataset, labels"
   ]
  },
  {
   "cell_type": "code",
   "execution_count": 21,
   "metadata": {},
   "outputs": [],
   "source": [
    "def save_train_and_test_set(dataset, labels, ratio, pickle_file):\n",
    "    split = int(len(dataset) * ratio)\n",
    "    train_dataset = dataset[:split]\n",
    "    train_labels = labels[:split]\n",
    "    test_dataset = dataset[split:]\n",
    "    test_labels = labels[split:]\n",
    "\n",
    "    try:\n",
    "        f = open(pickle_file, 'wb')\n",
    "        save = {\n",
    "            'train_dataset': train_dataset,\n",
    "            'train_labels': train_labels,\n",
    "            'test_dataset': test_dataset,\n",
    "            'test_labels': test_labels,\n",
    "        }\n",
    "        pickle.dump(save, f, pickle.HIGHEST_PROTOCOL)\n",
    "        f.close()\n",
    "    except Exception as e:\n",
    "        print('Unable to save data to', pickle_file, ':', e)\n",
    "        raise\n",
    "\n",
    "    statinfo = os.stat(pickle_file)\n",
    "    print('Compressed pickle size:', statinfo.st_size)"
   ]
  },
  {
   "cell_type": "code",
   "execution_count": 22,
   "metadata": {},
   "outputs": [
    {
     "name": "stdout",
     "output_type": "stream",
     "text": [
      "Compressed pickle size: 5692535\n",
      "Compressed pickle size: 5692535\n"
     ]
    }
   ],
   "source": [
    "dataset_open, labels_open = generate_dataset(1, openDirs)\n",
    "dataset_closed, labels_closed = generate_dataset(0, closeDirs)\n",
    "\n",
    "ratio = 0.8\n",
    "\n",
    "pickle_file_open = 'open_eyes.pickle'\n",
    "pickle_file_closed = 'closed_eyes.pickle'\n",
    "\n",
    "# Save open dataset to pickle file\n",
    "save_train_and_test_set(dataset_open, labels_open, ratio, pickle_file_open)\n",
    "# Save close dataset to pickle file\n",
    "save_train_and_test_set(dataset_closed, labels_closed, ratio, pickle_file_closed)"
   ]
  },
  {
   "cell_type": "code",
   "execution_count": 23,
   "metadata": {},
   "outputs": [
    {
     "name": "stdout",
     "output_type": "stream",
     "text": [
      "Training set (3938, 24, 24, 1) (3938, 1)\n",
      "Test set (986, 24, 24, 1) (986, 1)\n"
     ]
    }
   ],
   "source": [
    "np.random.seed(1337)  # for reproducibility\n",
    "\n",
    "pickle_files = ['open_eyes.pickle', 'closed_eyes.pickle']\n",
    "i = 0\n",
    "for pickle_file in pickle_files:\n",
    "    with open(pickle_file, 'rb') as f:\n",
    "        save = pickle.load(f)\n",
    "        if i == 0:\n",
    "            train_dataset = save['train_dataset']\n",
    "            train_labels = save['train_labels']\n",
    "            test_dataset = save['test_dataset']\n",
    "            test_labels = save['test_labels']\n",
    "        else:\n",
    "            train_dataset = np.concatenate((train_dataset, save['train_dataset']))\n",
    "            train_labels = np.concatenate((train_labels, save['train_labels']))\n",
    "            test_dataset = np.concatenate((test_dataset, save['test_dataset']))\n",
    "            test_labels = np.concatenate((test_labels, save['test_labels']))\n",
    "        del save  # hint to help gc free up memory\n",
    "    i += 1\n",
    "\n",
    "print('Training set', train_dataset.shape, train_labels.shape)\n",
    "print('Test set', test_dataset.shape, test_labels.shape)"
   ]
  },
  {
   "cell_type": "code",
   "execution_count": 24,
   "metadata": {},
   "outputs": [
    {
     "name": "stdout",
     "output_type": "stream",
     "text": [
      "3938 train samples, 1 channels, 24x24\n",
      "986  test samples, 1 channels, 24x24\n"
     ]
    }
   ],
   "source": [
    "X_train = train_dataset\n",
    "Y_train = train_labels\n",
    "X_test = test_dataset\n",
    "Y_test = test_labels\n",
    "\n",
    "# print data shape\n",
    "print(\"{1} train samples, {4} channel{0}, {2}x{3}\".format(\"\" if X_train.shape[1] == 1 else \"s\", *X_train.shape))\n",
    "print(\"{1}  test samples, {4} channel{0}, {2}x{3}\".format(\"\" if X_test.shape[1] == 1 else \"s\", *X_test.shape))"
   ]
  },
  {
   "cell_type": "code",
   "execution_count": 25,
   "metadata": {},
   "outputs": [
    {
     "name": "stdout",
     "output_type": "stream",
     "text": [
      "Model: \"sequential_3\"\n",
      "_________________________________________________________________\n",
      "Layer (type)                 Output Shape              Param #   \n",
      "=================================================================\n",
      "conv2d_13 (Conv2D)           (None, 24, 24, 32)        320       \n",
      "_________________________________________________________________\n",
      "activation_17 (Activation)   (None, 24, 24, 32)        0         \n",
      "_________________________________________________________________\n",
      "conv2d_14 (Conv2D)           (None, 22, 22, 32)        9248      \n",
      "_________________________________________________________________\n",
      "activation_18 (Activation)   (None, 22, 22, 32)        0         \n",
      "_________________________________________________________________\n",
      "max_pooling2d_7 (MaxPooling2 (None, 11, 11, 32)        0         \n",
      "_________________________________________________________________\n",
      "dropout_9 (Dropout)          (None, 11, 11, 32)        0         \n",
      "_________________________________________________________________\n",
      "conv2d_15 (Conv2D)           (None, 11, 11, 64)        18496     \n",
      "_________________________________________________________________\n",
      "activation_19 (Activation)   (None, 11, 11, 64)        0         \n",
      "_________________________________________________________________\n",
      "conv2d_16 (Conv2D)           (None, 9, 9, 64)          36928     \n",
      "_________________________________________________________________\n",
      "activation_20 (Activation)   (None, 9, 9, 64)          0         \n",
      "_________________________________________________________________\n",
      "max_pooling2d_8 (MaxPooling2 (None, 4, 4, 64)          0         \n",
      "_________________________________________________________________\n",
      "dropout_10 (Dropout)         (None, 4, 4, 64)          0         \n",
      "_________________________________________________________________\n",
      "conv2d_17 (Conv2D)           (None, 4, 4, 128)         73856     \n",
      "_________________________________________________________________\n",
      "activation_21 (Activation)   (None, 4, 4, 128)         0         \n",
      "_________________________________________________________________\n",
      "conv2d_18 (Conv2D)           (None, 2, 2, 128)         147584    \n",
      "_________________________________________________________________\n",
      "activation_22 (Activation)   (None, 2, 2, 128)         0         \n",
      "_________________________________________________________________\n",
      "max_pooling2d_9 (MaxPooling2 (None, 1, 1, 128)         0         \n",
      "_________________________________________________________________\n",
      "dropout_11 (Dropout)         (None, 1, 1, 128)         0         \n",
      "_________________________________________________________________\n",
      "flatten_3 (Flatten)          (None, 128)               0         \n",
      "_________________________________________________________________\n",
      "dense_5 (Dense)              (None, 512)               66048     \n",
      "_________________________________________________________________\n",
      "activation_23 (Activation)   (None, 512)               0         \n",
      "_________________________________________________________________\n",
      "dropout_12 (Dropout)         (None, 512)               0         \n",
      "_________________________________________________________________\n",
      "dense_6 (Dense)              (None, 1)                 513       \n",
      "_________________________________________________________________\n",
      "activation_24 (Activation)   (None, 1)                 0         \n",
      "=================================================================\n",
      "Total params: 352,993\n",
      "Trainable params: 352,993\n",
      "Non-trainable params: 0\n",
      "_________________________________________________________________\n"
     ]
    }
   ],
   "source": [
    "_, img_channels, img_rows, img_cols = X_train.shape\n",
    "\n",
    "model = Sequential()\n",
    "# first\tand\tsecond Conv Layers with pooling\n",
    "model.add(Conv2D(32, (3, 3), padding='same', input_shape=(img_channels, img_rows, img_cols)))\n",
    "model.add(Activation('relu'))\n",
    "model.add(Conv2D(32, (3, 3)))\n",
    "model.add(Activation('relu'))\n",
    "model.add(MaxPooling2D(pool_size=(2, 2)))\n",
    "model.add(Dropout(0.25))\n",
    "\n",
    "model.add(Conv2D(64, (3, 3), padding='same'))\n",
    "model.add(Activation('relu'))\n",
    "model.add(Conv2D(64, (3, 3)))\n",
    "model.add(Activation('relu'))\n",
    "model.add(MaxPooling2D(pool_size=(2, 2)))\n",
    "model.add(Dropout(0.25))\n",
    "\n",
    "model.add(Conv2D(128, (3, 3), padding='same'))\n",
    "model.add(Activation('relu'))\n",
    "model.add(Conv2D(128, (3, 3)))\n",
    "model.add(Activation('relu'))\n",
    "model.add(MaxPooling2D(pool_size=(2, 2)))\n",
    "model.add(Dropout(0.25))\n",
    "\n",
    "# FC layer\n",
    "model.add(Flatten())\n",
    "model.add(Dense(512))\n",
    "model.add(Activation('relu'))\n",
    "model.add(Dropout(0.5))\n",
    "\n",
    "# Output layer. Define the class\n",
    "model.add(Dense(1))\n",
    "model.add(Activation('sigmoid'))\n",
    "\n",
    "# let's train the model using SGD + momentum (how original).\n",
    "sgd = SGD(lr=0.01, decay=1e-6, momentum=0.9, nesterov=True)\n",
    "model.compile(loss='binary_crossentropy', optimizer=sgd, metrics=['accuracy'])\n",
    "\n",
    "model.summary()"
   ]
  },
  {
   "cell_type": "code",
   "execution_count": 26,
   "metadata": {
    "scrolled": true
   },
   "outputs": [
    {
     "name": "stdout",
     "output_type": "stream",
     "text": [
      "Train on 3938 samples, validate on 986 samples\n",
      "Epoch 1/50\n",
      "3938/3938 [==============================] - 1s 259us/step - loss: 0.6720 - accuracy: 0.5777 - val_loss: 0.6412 - val_accuracy: 0.6298\n",
      "Epoch 2/50\n",
      "3938/3938 [==============================] - 1s 165us/step - loss: 0.6205 - accuracy: 0.6536 - val_loss: 0.6727 - val_accuracy: 0.5913\n",
      "Epoch 3/50\n",
      "3938/3938 [==============================] - 1s 152us/step - loss: 0.6127 - accuracy: 0.6607 - val_loss: 0.6193 - val_accuracy: 0.6653\n",
      "Epoch 4/50\n",
      "3938/3938 [==============================] - 1s 154us/step - loss: 0.5893 - accuracy: 0.6920 - val_loss: 0.5903 - val_accuracy: 0.6876\n",
      "Epoch 5/50\n",
      "3938/3938 [==============================] - 1s 170us/step - loss: 0.5108 - accuracy: 0.7605 - val_loss: 0.6766 - val_accuracy: 0.6663\n",
      "Epoch 6/50\n",
      "3938/3938 [==============================] - 1s 152us/step - loss: 0.3967 - accuracy: 0.8266 - val_loss: 0.3289 - val_accuracy: 0.8205\n",
      "Epoch 7/50\n",
      "3938/3938 [==============================] - 1s 155us/step - loss: 0.2847 - accuracy: 0.8875 - val_loss: 0.2341 - val_accuracy: 0.8611\n",
      "Epoch 8/50\n",
      "3938/3938 [==============================] - 1s 146us/step - loss: 0.2288 - accuracy: 0.9099 - val_loss: 0.4997 - val_accuracy: 0.7485\n",
      "Epoch 9/50\n",
      "3938/3938 [==============================] - 1s 147us/step - loss: 0.1870 - accuracy: 0.9289 - val_loss: 0.1932 - val_accuracy: 0.9371\n",
      "Epoch 10/50\n",
      "3938/3938 [==============================] - 1s 155us/step - loss: 0.1677 - accuracy: 0.9391 - val_loss: 0.1444 - val_accuracy: 0.9533\n",
      "Epoch 11/50\n",
      "3938/3938 [==============================] - 1s 146us/step - loss: 0.1541 - accuracy: 0.9383 - val_loss: 0.1098 - val_accuracy: 0.9635\n",
      "Epoch 12/50\n",
      "3938/3938 [==============================] - 1s 154us/step - loss: 0.1437 - accuracy: 0.9457 - val_loss: 0.1112 - val_accuracy: 0.9696\n",
      "Epoch 13/50\n",
      "3938/3938 [==============================] - 1s 148us/step - loss: 0.1292 - accuracy: 0.9533 - val_loss: 0.1166 - val_accuracy: 0.9594\n",
      "Epoch 14/50\n",
      "3938/3938 [==============================] - 1s 149us/step - loss: 0.1178 - accuracy: 0.9571 - val_loss: 0.1307 - val_accuracy: 0.9594\n",
      "Epoch 15/50\n",
      "3938/3938 [==============================] - 1s 167us/step - loss: 0.1149 - accuracy: 0.9576 - val_loss: 0.1094 - val_accuracy: 0.9675\n",
      "Epoch 16/50\n",
      "3938/3938 [==============================] - 1s 160us/step - loss: 0.1076 - accuracy: 0.9586 - val_loss: 0.1128 - val_accuracy: 0.9655\n",
      "Epoch 17/50\n",
      "3938/3938 [==============================] - 1s 165us/step - loss: 0.1052 - accuracy: 0.9617 - val_loss: 0.0942 - val_accuracy: 0.9736\n",
      "Epoch 18/50\n",
      "3938/3938 [==============================] - 1s 162us/step - loss: 0.0988 - accuracy: 0.9622 - val_loss: 0.1179 - val_accuracy: 0.9625\n",
      "Epoch 19/50\n",
      "3938/3938 [==============================] - 1s 151us/step - loss: 0.0905 - accuracy: 0.9642 - val_loss: 0.1992 - val_accuracy: 0.9341\n",
      "Epoch 20/50\n",
      "3938/3938 [==============================] - 1s 151us/step - loss: 0.0926 - accuracy: 0.9634 - val_loss: 0.0991 - val_accuracy: 0.9675\n",
      "Epoch 21/50\n",
      "3938/3938 [==============================] - 1s 160us/step - loss: 0.0839 - accuracy: 0.9690 - val_loss: 0.0953 - val_accuracy: 0.9696\n",
      "Epoch 22/50\n",
      "3938/3938 [==============================] - 1s 164us/step - loss: 0.0827 - accuracy: 0.9700 - val_loss: 0.1092 - val_accuracy: 0.9635\n",
      "Epoch 23/50\n",
      "3938/3938 [==============================] - 1s 161us/step - loss: 0.0750 - accuracy: 0.9708 - val_loss: 0.1003 - val_accuracy: 0.9696\n",
      "Epoch 24/50\n",
      "3938/3938 [==============================] - 1s 150us/step - loss: 0.0848 - accuracy: 0.9662 - val_loss: 0.0853 - val_accuracy: 0.9746\n",
      "Epoch 25/50\n",
      "3938/3938 [==============================] - 1s 152us/step - loss: 0.0791 - accuracy: 0.9711 - val_loss: 0.1013 - val_accuracy: 0.9726\n",
      "Epoch 26/50\n",
      "3938/3938 [==============================] - 1s 157us/step - loss: 0.0617 - accuracy: 0.9787 - val_loss: 0.1155 - val_accuracy: 0.9716\n",
      "Epoch 27/50\n",
      "3938/3938 [==============================] - 1s 153us/step - loss: 0.0548 - accuracy: 0.9794 - val_loss: 0.1303 - val_accuracy: 0.9615\n",
      "Epoch 28/50\n",
      "3938/3938 [==============================] - 1s 154us/step - loss: 0.0704 - accuracy: 0.9705 - val_loss: 0.1088 - val_accuracy: 0.9645\n",
      "Epoch 29/50\n",
      "3938/3938 [==============================] - 1s 151us/step - loss: 0.0601 - accuracy: 0.9784 - val_loss: 0.1630 - val_accuracy: 0.9625\n",
      "Epoch 30/50\n",
      "3938/3938 [==============================] - 1s 155us/step - loss: 0.0594 - accuracy: 0.9759 - val_loss: 0.1267 - val_accuracy: 0.9635\n",
      "Epoch 31/50\n",
      "3938/3938 [==============================] - 1s 150us/step - loss: 0.0480 - accuracy: 0.9807 - val_loss: 0.1287 - val_accuracy: 0.9645\n",
      "Epoch 32/50\n",
      "3938/3938 [==============================] - 1s 151us/step - loss: 0.0514 - accuracy: 0.9794 - val_loss: 0.0946 - val_accuracy: 0.9716\n",
      "Epoch 33/50\n",
      "3938/3938 [==============================] - 1s 156us/step - loss: 0.0542 - accuracy: 0.9784 - val_loss: 0.0856 - val_accuracy: 0.9726\n",
      "Epoch 34/50\n",
      "3938/3938 [==============================] - 1s 151us/step - loss: 0.0465 - accuracy: 0.9845 - val_loss: 0.1096 - val_accuracy: 0.9665\n",
      "Epoch 35/50\n",
      "3938/3938 [==============================] - 1s 155us/step - loss: 0.0479 - accuracy: 0.9830 - val_loss: 0.1106 - val_accuracy: 0.9686\n",
      "Epoch 36/50\n",
      "3938/3938 [==============================] - 1s 153us/step - loss: 0.0485 - accuracy: 0.9825 - val_loss: 0.1153 - val_accuracy: 0.9726\n",
      "Epoch 37/50\n",
      "3938/3938 [==============================] - 1s 157us/step - loss: 0.0494 - accuracy: 0.9817 - val_loss: 0.1024 - val_accuracy: 0.9675\n",
      "Epoch 38/50\n",
      "3938/3938 [==============================] - 1s 153us/step - loss: 0.0448 - accuracy: 0.9822 - val_loss: 0.1158 - val_accuracy: 0.9706\n",
      "Epoch 39/50\n",
      "3938/3938 [==============================] - 1s 161us/step - loss: 0.0369 - accuracy: 0.9850 - val_loss: 0.1045 - val_accuracy: 0.9706\n",
      "Epoch 40/50\n",
      "3938/3938 [==============================] - 1s 158us/step - loss: 0.0433 - accuracy: 0.9853 - val_loss: 0.1149 - val_accuracy: 0.9675\n",
      "Epoch 41/50\n",
      "3938/3938 [==============================] - 1s 156us/step - loss: 0.0385 - accuracy: 0.9860 - val_loss: 0.1605 - val_accuracy: 0.9655\n",
      "Epoch 42/50\n",
      "3938/3938 [==============================] - 1s 168us/step - loss: 0.0504 - accuracy: 0.9820 - val_loss: 0.1132 - val_accuracy: 0.9686\n",
      "Epoch 43/50\n",
      "3938/3938 [==============================] - 1s 157us/step - loss: 0.0363 - accuracy: 0.9858 - val_loss: 0.0990 - val_accuracy: 0.9757\n",
      "Epoch 44/50\n",
      "3938/3938 [==============================] - 1s 162us/step - loss: 0.0296 - accuracy: 0.9886 - val_loss: 0.1342 - val_accuracy: 0.9645\n",
      "Epoch 45/50\n",
      "3938/3938 [==============================] - 1s 166us/step - loss: 0.0384 - accuracy: 0.9853 - val_loss: 0.1187 - val_accuracy: 0.9736\n",
      "Epoch 46/50\n",
      "3938/3938 [==============================] - 1s 154us/step - loss: 0.0387 - accuracy: 0.9845 - val_loss: 0.1083 - val_accuracy: 0.9686\n",
      "Epoch 47/50\n",
      "3938/3938 [==============================] - 1s 152us/step - loss: 0.0275 - accuracy: 0.9909 - val_loss: 0.1256 - val_accuracy: 0.9665\n",
      "Epoch 48/50\n",
      "3938/3938 [==============================] - 1s 152us/step - loss: 0.0374 - accuracy: 0.9848 - val_loss: 0.1123 - val_accuracy: 0.9706\n",
      "Epoch 49/50\n",
      "3938/3938 [==============================] - 1s 154us/step - loss: 0.0403 - accuracy: 0.9853 - val_loss: 0.1096 - val_accuracy: 0.9696\n",
      "Epoch 50/50\n",
      "3938/3938 [==============================] - 1s 152us/step - loss: 0.0254 - accuracy: 0.9914 - val_loss: 0.1337 - val_accuracy: 0.9706\n",
      "Save model to file json...\n",
      "Save weights to file...\n"
     ]
    }
   ],
   "source": [
    "history = model.fit(X_train,\n",
    "                    Y_train, \n",
    "                    batch_size=30, \n",
    "                    epochs=50, \n",
    "                    verbose=1, \n",
    "                    validation_data=(X_test, Y_test))\n",
    "\n",
    "now = time.time()\n",
    "print(\"Save model to file json...\")\n",
    "model_json = model.to_json()\n",
    "with open('trained_model/model_' + str(now) + '.json', \"w\") as json_file:\n",
    "    json_file.write(model_json)\n",
    "\n",
    "print(\"Save weights to file...\")\n",
    "model.save_weights('trained_model/weight_' + str(now) + '.h5', overwrite=True)"
   ]
  },
  {
   "cell_type": "code",
   "execution_count": 27,
   "metadata": {},
   "outputs": [
    {
     "name": "stdout",
     "output_type": "stream",
     "text": [
      "Loss score: 0.133695207096062\n",
      "Test accuracy: 97.0588207244873 %\n"
     ]
    }
   ],
   "source": [
    "score = model.evaluate(X_test, Y_test, verbose=0)\n",
    "\n",
    "print('Loss score:', score[0])\n",
    "print('Test accuracy:', score[1] * 100, '%')"
   ]
  },
  {
   "cell_type": "code",
   "execution_count": 28,
   "metadata": {},
   "outputs": [
    {
     "data": {
      "image/png": "[encoded data removed]",
      "text/plain": [
       "<Figure size 1440x720 with 2 Axes>"
      ]
     },
     "metadata": {
      "needs_background": "light"
     },
     "output_type": "display_data"
    }
   ],
   "source": [
    "plt.figure(figsize=(20,10))\n",
    "plt.subplot(1, 2, 1)\n",
    "plt.suptitle('Optimizer : Adam', fontsize=10)\n",
    "plt.ylabel('Loss', fontsize=16)\n",
    "plt.plot(history.history['loss'], label='Training Loss')\n",
    "plt.plot(history.history['val_loss'], label='Validation Loss')\n",
    "plt.legend(loc='upper right')\n",
    "\n",
    "plt.subplot(1, 2, 2)\n",
    "plt.ylabel('Accuracy', fontsize=16)\n",
    "plt.plot(history.history['accuracy'], label='Training Accuracy')\n",
    "plt.plot(history.history['val_accuracy'], label='Validation Accuracy')\n",
    "plt.legend(loc='lower right')\n",
    "plt.show()"
   ]
  },
  {
   "cell_type": "code",
   "execution_count": null,
   "metadata": {},
   "outputs": [],
   "source": []
  }
 ],
 "metadata": {
  "kernelspec": {
   "display_name": "Python 3",
   "language": "python",
   "name": "python3"
  },
  "language_info": {
   "codemirror_mode": {
    "name": "ipython",
    "version": 3
   },
   "file_extension": ".py",
   "mimetype": "text/x-python",
   "name": "python",
   "nbconvert_exporter": "python",
   "pygments_lexer": "ipython3",
   "version": "3.6.9"
  },
  "varInspector": {
   "cols": {
    "lenName": 16,
    "lenType": 16,
    "lenVar": 40
   },
   "kernels_config": {
    "python": {
     "delete_cmd_postfix": "",
     "delete_cmd_prefix": "del ",
     "library": "var_list.py",
     "varRefreshCmd": "print(var_dic_list())"
    },
    "r": {
     "delete_cmd_postfix": ") ",
     "delete_cmd_prefix": "rm(",
     "library": "var_list.r",
     "varRefreshCmd": "cat(var_dic_list()) "
    }
   },
   "types_to_exclude": [
    "module",
    "function",
    "builtin_function_or_method",
    "instance",
    "_Feature"
   ],
   "window_display": false
  }
 },
 "nbformat": 4,
 "nbformat_minor": 2
}
